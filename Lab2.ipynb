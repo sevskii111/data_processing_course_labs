{
 "cells": [
  {
   "cell_type": "markdown",
   "id": "bc0a72c9",
   "metadata": {},
   "source": [
    "- Прочитайте главы 4-6 из книги \"Spark: The Definitive Guide\".\n",
    "- Загрузите датасет из предыдущей лабораторной работы:\n",
    "    - https://www.kaggle.com/datasets/sveta151/tiktok-popular-songs-2022\n",
    "- Выполните задания."
   ]
  },
  {
   "cell_type": "code",
   "execution_count": null,
   "id": "5a814fb9",
   "metadata": {},
   "outputs": [],
   "source": [
    "# Создаем SparkSession\n",
    "import pyspark\n",
    "from pyspark.sql import SparkSession\n",
    "spark = SparkSession.builder.master(\"local[1]\") \\\n",
    "                    .appName('SparkLab2') \\\n",
    "                    .getOrCreate()\n",
    "\n",
    "# Загружаем датасет.\n",
    "tiktokData0 = spark\\\n",
    "  .read\\\n",
    "  .option(\"inferSchema\", \"true\")\\\n",
    "  .option(\"header\", \"true\")\\\n",
    "  .csv(\"path to csv file\")"
   ]
  },
  {
   "cell_type": "markdown",
   "id": "afa83d79",
   "metadata": {},
   "source": [
    "№1: В столбце \"loudness\" переведите значения из дБ в проценты громкости. Выведите топ10 самых громких песен.\n",
    "\n",
    "|          track_name|               album|        artist_name|loudness|\n",
    "|--------------------|--------------------|-------------------|--------|\n",
    "|          Astronomia|          Astronomia|           Vicetone|      55|\n",
    "|     Sweater Weather|         I Love You.|  The Neighbourhood|      52|\n",
    "|          Dandelions|          Safe Haven|            Ruth B.|      51|\n",
    "|1, 2, 3 (feat. Ja...|1, 2, 3 (feat. Ja...|        Sofía Reyes|      49|\n",
    "|   Beauty And A Beat|   Beauty And A Beat|              Other|      49|\n",
    "|Being Good Is Boring|Being Good Is Boring|              Other|      48|\n",
    "|Wellerman - Sea S...|Wellerman (Sea Sh...|       Nathan Evans|      47|\n",
    "|           Thot Shit|           Thot Shit|Megan Thee Stallion|      45|\n",
    "|Friday (feat. Muf...|Friday (feat. Muf...|              Riton|      45|\n",
    "|               Hawái|        PAPI JUANCHO|             Maluma|      45|"
   ]
  },
  {
   "cell_type": "code",
   "execution_count": null,
   "id": "ed5f3f3c",
   "metadata": {},
   "outputs": [],
   "source": [
    "from pyspark.sql.functions import desc\n",
    "from pyspark.sql.functions import col\n",
    "from pyspark.sql.functions import round\n",
    "from pyspark.sql.types import IntegerType\n",
    "\n",
    "tiktokData1 = tiktokData0\\\n",
    "    ...\n",
    "\n",
    "tiktokData1.sort(desc(\"loudness\")).select(\"track_name\", \"album\", \"artist_name\", \"loudness\").show(10)"
   ]
  },
  {
   "cell_type": "markdown",
   "id": "62e8b3e2",
   "metadata": {},
   "source": [
    "№2: Получите имена соисполнителей из названий песен. Вынесите их в отдельный столбец. Удалите информацию о соисполнителях из названий треков.\n",
    "\n",
    "|track_name                                     |artist_name      |feat                       |\n",
    "|-----------------------------------------------|-----------------|---------------------------|\n",
    "|INDUSTRY BABY                                  |Lil Nas X        |Jack Harlow                |\n",
    "|Left and Right (Charlie Puth) - Sped Up Version|sped up nightcore|Jung Kook of BTS           |\n",
    "|Bam Bam                                        |Camila Cabello   |Ed Sheeran                 |\n",
    "|Down Under                                     |Luude            |Colin Hay                  |\n",
    "|1, 2, 3                                        |Sofía Reyes      |Jason Derulo & De La Ghetto|\n",
    "|Chaa Chaa Chaa                                 |Girll Codee      |HoodCelebrityy             |\n",
    "\n",
    "<div style=\"text-align: center\"> only showing top 6 rows </div>"
   ]
  },
  {
   "cell_type": "code",
   "execution_count": null,
   "id": "c47f574d",
   "metadata": {},
   "outputs": [],
   "source": [
    "from pyspark.sql.functions import regexp_extract\n",
    "from pyspark.sql.functions import regexp_replace\n",
    "\n",
    "tiktokData2 = tiktokData1\\\n",
    "    ..."
   ]
  },
  {
   "cell_type": "markdown",
   "id": "f70cb42e",
   "metadata": {},
   "source": [
    "№3: Разделите строки с соисполнителями по символу '&'. Для каждой песни соберите всех исполнителей в один массив. Отсортируйте песни по количеству исполнителей и названиям песен.\n",
    "\n",
    "|track_name                       |artist_names                             |\n",
    "|---------------------------------|-----------------------------------------|\n",
    "|1, 2, 3                          |[Sofía Reyes, Jason Derulo, De La Ghetto]|\n",
    "|For The Night                    |[Pop Smoke, Lil Baby, DaBaby]            |\n",
    "|Friday - Dopamine Re-Edit        |[Riton, Mufasa, Hypeman]                 |\n",
    "|Peaches                          |[Justin Bieber, Daniel Caesar, Giveon]   |\n",
    "|Bam Bam                          |[Camila Cabello, Ed Sheeran]             |\n",
    "|Banana - DJ FLe - Minisiren Remix|[Conkarah, Shaggy]                       |\n",
    "\n",
    "<div style=\"text-align: center\"> only showing top 6 rows </div>"
   ]
  },
  {
   "cell_type": "code",
   "execution_count": null,
   "id": "a48faba9",
   "metadata": {},
   "outputs": [],
   "source": [
    "from pyspark.sql.functions import split\n",
    "from pyspark.sql.functions import array_union\n",
    "from pyspark.sql.functions import array\n",
    "from pyspark.sql.functions import size\n",
    "from pyspark.sql.functions import when\n",
    "\n"
   ]
  },
  {
   "cell_type": "markdown",
   "id": "3a71a168",
   "metadata": {},
   "source": [
    "№4: Выведите список песен Doja Cat.\n",
    "\n",
    "|  track_name|               album|        artist_names|\n",
    "|------------|--------------------|--------------------|\n",
    "|       Woman|          Planet Her|          [Doja Cat]|\n",
    "|Kiss Me More|Kiss Me More (fea...|     [Doja Cat, SZA]|\n",
    "|Need to Know|          Planet Her|          [Doja Cat]|\n",
    "|  Ain't Shit|          Planet Her|          [Doja Cat]|\n",
    "|   You Right|          Planet Her|          [Doja Cat]|\n",
    "| Best Friend|Best Friend (feat...|[Saweetie, Doja Cat]|\n",
    "|       Freak|               Freak|          [Doja Cat]|\n",
    "|  Boss Bitch|          Boss Bitch|          [Doja Cat]|\n",
    "|      Say So|            Hot Pink|          [Doja Cat]|"
   ]
  },
  {
   "cell_type": "code",
   "execution_count": null,
   "id": "689cc597",
   "metadata": {},
   "outputs": [],
   "source": [
    "from pyspark.sql.functions import explode\n",
    "\n"
   ]
  },
  {
   "cell_type": "markdown",
   "id": "ddf9daf5",
   "metadata": {},
   "source": [
    "№5: Выведите таблицу с исполнителями и количеством их треков в порядке уменьшения.\n",
    "\n",
    "|   artist_name|count|\n",
    "|--------------|-----|\n",
    "|      Doja Cat|    9|\n",
    "|        Coopex|    6|\n",
    "|     Dame Dame|    5|\n",
    "|Alex Alexander|    4|\n",
    "|       YES YES|    4|\n",
    "|     Lil Nas X|    4|\n",
    "\n",
    "\n",
    "<div style=\"text-align: center\"> only showing top 6 rows </div>"
   ]
  },
  {
   "cell_type": "code",
   "execution_count": null,
   "id": "6221c4a3",
   "metadata": {},
   "outputs": [],
   "source": []
  },
  {
   "cell_type": "markdown",
   "id": "4e11fa46",
   "metadata": {},
   "source": [
    "№6: Замените имена всех исполнителей, популярность которых неизвестна или меньше 50, на \"Other\". Отсортируйте треки по количеству исполнителей и популярности.\n",
    "\n",
    "|track_name               |artist_names                   |track_pop|\n",
    "|-------------------------|-------------------------------|---------|\n",
    "|Peaches                  |[Justin Bieber, Other, Other]  |86       |\n",
    "|Friday - Dopamine Re-Edit|[Riton, Other, Other]          |83       |\n",
    "|1, 2, 3                  |[Sofía Reyes, Other, Other]    |82       |\n",
    "|For The Night            |[Pop Smoke, Other, DaBaby]     |80       |\n",
    "|Jimmy Cooks              |[Drake, Other]                 |92       |\n",
    "|INDUSTRY BABY            |[Lil Nas X, Jack Harlow]       |86       |\n",
    "|Levitating               |[Dua Lipa, DaBaby]             |85       |\n",
    "|Bam Bam                  |[Camila Cabello, Ed Sheeran]   |83       |\n",
    "|Beautiful Mistakes       |[Maroon 5, Megan Thee Stallion]|82       |\n",
    "|Kiss Me More             |[Doja Cat, SZA]                |82       |\n",
    "\n",
    "<div style=\"text-align: center\"> only showing top 10 rows </div>"
   ]
  },
  {
   "cell_type": "code",
   "execution_count": null,
   "id": "902b0f05",
   "metadata": {},
   "outputs": [],
   "source": [
    "from pyspark.sql.functions import collect_list\n",
    "\n"
   ]
  }
 ],
 "metadata": {
  "kernelspec": {
   "display_name": "Python 3 (ipykernel)",
   "language": "python",
   "name": "python3"
  },
  "language_info": {
   "codemirror_mode": {
    "name": "ipython",
    "version": 3
   },
   "file_extension": ".py",
   "mimetype": "text/x-python",
   "name": "python",
   "nbconvert_exporter": "python",
   "pygments_lexer": "ipython3",
   "version": "3.10.4"
  }
 },
 "nbformat": 4,
 "nbformat_minor": 5
}
