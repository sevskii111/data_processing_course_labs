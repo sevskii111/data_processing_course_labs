{
 "cells": [
  {
   "cell_type": "code",
   "execution_count": 1,
   "id": "9gYja72EcWs8",
   "metadata": {
    "id": "9gYja72EcWs8"
   },
   "outputs": [],
   "source": [
    "!apt-get install openjdk-8-jdk-headless -qq > /dev/null\n",
    "!wget -q https://archive.apache.org/dist/spark/spark-3.1.3/spark-3.1.3-bin-hadoop3.2.tgz\n",
    "!tar xf spark-3.1.3-bin-hadoop3.2.tgz\n",
    "import os\n",
    "\n",
    "os.environ[\"JAVA_HOME\"] = \"/usr/lib/jvm/java-8-openjdk-amd64\"\n",
    "os.environ[\"SPARK_HOME\"] = \"/content/spark-3.1.3-bin-hadoop3.2\"\n",
    "!pip install -q findspark\n",
    "import findspark\n",
    "\n",
    "findspark.init()"
   ]
  },
  {
   "cell_type": "code",
   "execution_count": 2,
   "id": "5LA5n0mRcl5J",
   "metadata": {
    "colab": {
     "base_uri": "https://localhost:8080/"
    },
    "id": "5LA5n0mRcl5J",
    "outputId": "e040f278-bed7-4f81-fa39-a08c841299b0"
   },
   "outputs": [
    {
     "name": "stdout",
     "output_type": "stream",
     "text": [
      "Mounted at /content/drive\n"
     ]
    }
   ],
   "source": [
    "from google.colab import drive\n",
    "\n",
    "drive.mount(\"/content/drive\")"
   ]
  },
  {
   "cell_type": "markdown",
   "id": "bc0a72c9",
   "metadata": {
    "id": "bc0a72c9"
   },
   "source": [
    "- Прочитайте главы 4-6 из книги \"Spark: The Definitive Guide\".\n",
    "- Загрузите датасет из предыдущей лабораторной работы:\n",
    "  - https://www.kaggle.com/datasets/sveta151/tiktok-popular-songs-2022\n",
    "- Выполните задания.\n"
   ]
  },
  {
   "cell_type": "code",
   "execution_count": 3,
   "id": "5a814fb9",
   "metadata": {
    "id": "5a814fb9"
   },
   "outputs": [],
   "source": [
    "# Создаем SparkSession\n",
    "import pyspark\n",
    "from pyspark.sql import SparkSession\n",
    "\n",
    "spark = SparkSession.builder.master(\"local[1]\").appName(\"SparkLab2\").getOrCreate()\n",
    "\n",
    "# Загружаем датасет.\n",
    "tiktokData0 = (\n",
    "    spark.read.option(\"inferSchema\", \"true\")\n",
    "    .option(\"header\", \"true\")\n",
    "    .csv(\"/content/drive/MyDrive/TikTok_songs_2022.csv\")\n",
    ")"
   ]
  },
  {
   "cell_type": "markdown",
   "id": "afa83d79",
   "metadata": {
    "id": "afa83d79"
   },
   "source": [
    "№1: В столбце \"loudness\" переведите значения из дБ в проценты громкости. Выведите топ10 самых громких песен.\n",
    "\n",
    "| track_name           | album                | artist_name         | loudness |\n",
    "| -------------------- | -------------------- | ------------------- | -------- |\n",
    "| Astronomia           | Astronomia           | Vicetone            | 55       |\n",
    "| Sweater Weather      | I Love You.          | The Neighbourhood   | 52       |\n",
    "| Dandelions           | Safe Haven           | Ruth B.             | 51       |\n",
    "| 1, 2, 3 (feat. Ja... | 1, 2, 3 (feat. Ja... | Sofía Reyes         | 49       |\n",
    "| Beauty And A Beat    | Beauty And A Beat    | Other               | 49       |\n",
    "| Being Good Is Boring | Being Good Is Boring | Other               | 48       |\n",
    "| Wellerman - Sea S... | Wellerman (Sea Sh... | Nathan Evans        | 47       |\n",
    "| Thot Shit            | Thot Shit            | Megan Thee Stallion | 45       |\n",
    "| Friday (feat. Muf... | Friday (feat. Muf... | Riton               | 45       |\n",
    "| Hawái                | PAPI JUANCHO         | Maluma              | 45       |\n"
   ]
  },
  {
   "cell_type": "code",
   "execution_count": 4,
   "id": "ed5f3f3c",
   "metadata": {
    "colab": {
     "base_uri": "https://localhost:8080/"
    },
    "id": "ed5f3f3c",
    "outputId": "d6990261-f451-4684-e177-b68e1971143f"
   },
   "outputs": [
    {
     "name": "stdout",
     "output_type": "stream",
     "text": [
      "+--------------------+--------------------+-------------------+--------+\n",
      "|          track_name|               album|        artist_name|loudness|\n",
      "+--------------------+--------------------+-------------------+--------+\n",
      "|          Astronomia|          Astronomia|           Vicetone|      55|\n",
      "|     Sweater Weather|         I Love You.|  The Neighbourhood|      52|\n",
      "|          Dandelions|          Safe Haven|            Ruth B.|      51|\n",
      "|1, 2, 3 (feat. Ja...|1, 2, 3 (feat. Ja...|        Sofía Reyes|      49|\n",
      "|   Beauty And A Beat|   Beauty And A Beat|             Glamii|      49|\n",
      "|Being Good Is Boring|Being Good Is Boring|          Jena Rose|      48|\n",
      "|Wellerman - Sea S...|Wellerman (Sea Sh...|       Nathan Evans|      47|\n",
      "|           Thot Shit|           Thot Shit|Megan Thee Stallion|      45|\n",
      "|Friday (feat. Muf...|Friday (feat. Muf...|              Riton|      45|\n",
      "|               Hawái|        PAPI JUANCHO|             Maluma|      45|\n",
      "+--------------------+--------------------+-------------------+--------+\n",
      "only showing top 10 rows\n",
      "\n"
     ]
    }
   ],
   "source": [
    "from pyspark.sql.functions import desc\n",
    "from pyspark.sql.functions import col\n",
    "from pyspark.sql.functions import round\n",
    "from pyspark.sql.types import IntegerType\n",
    "\n",
    "tiktokData1 = tiktokData0.withColumn(\n",
    "    \"loudness\", round((10 ** (tiktokData0.loudness / 10) * 100)).cast(\"int\")\n",
    ")\n",
    "\n",
    "tiktokData1.sort(desc(\"loudness\")).select(\n",
    "    \"track_name\", \"album\", \"artist_name\", \"loudness\"\n",
    ").show(10)"
   ]
  },
  {
   "cell_type": "markdown",
   "id": "62e8b3e2",
   "metadata": {
    "id": "62e8b3e2"
   },
   "source": [
    "№2: Получите имена соисполнителей из названий песен. Вынесите их в отдельный столбец. Удалите информацию о соисполнителях из названий треков.\n",
    "\n",
    "| track_name                                      | artist_name       | feat                        |\n",
    "| ----------------------------------------------- | ----------------- | --------------------------- |\n",
    "| INDUSTRY BABY                                   | Lil Nas X         | Jack Harlow                 |\n",
    "| Left and Right (Charlie Puth) - Sped Up Version | sped up nightcore | Jung Kook of BTS            |\n",
    "| Bam Bam                                         | Camila Cabello    | Ed Sheeran                  |\n",
    "| Down Under                                      | Luude             | Colin Hay                   |\n",
    "| 1, 2, 3                                         | Sofía Reyes       | Jason Derulo & De La Ghetto |\n",
    "| Chaa Chaa Chaa                                  | Girll Codee       | HoodCelebrityy              |\n",
    "\n",
    "<div style=\"text-align: center\"> only showing top 6 rows </div>\n"
   ]
  },
  {
   "cell_type": "code",
   "execution_count": 5,
   "id": "c47f574d",
   "metadata": {
    "colab": {
     "base_uri": "https://localhost:8080/"
    },
    "id": "c47f574d",
    "outputId": "9e1c0415-417c-4344-e09a-3010207c3900"
   },
   "outputs": [
    {
     "name": "stdout",
     "output_type": "stream",
     "text": [
      "+-----------------------------------------------+-----------------+---------------------------+\n",
      "|track_name                                     |artist_name      |feat                       |\n",
      "+-----------------------------------------------+-----------------+---------------------------+\n",
      "|INDUSTRY BABY                                  |Lil Nas X        |Jack Harlow                |\n",
      "|Left and Right (Charlie Puth) - Sped Up Version|sped up nightcore|Jung Kook of BTS           |\n",
      "|Bam Bam                                        |Camila Cabello   |Ed Sheeran                 |\n",
      "|Down Under                                     |Luude            |Colin Hay                  |\n",
      "|1, 2, 3                                        |Sofía Reyes      |Jason Derulo & De La Ghetto|\n",
      "|Chaa Chaa Chaa                                 |Girll Codee      |HoodCelebrityy             |\n",
      "+-----------------------------------------------+-----------------+---------------------------+\n",
      "only showing top 6 rows\n",
      "\n"
     ]
    }
   ],
   "source": [
    "from pyspark.sql.functions import regexp_extract\n",
    "from pyspark.sql.functions import regexp_replace\n",
    "\n",
    "tiktokData2 = tiktokData1.withColumn(\n",
    "    \"feat\", regexp_extract(tiktokData1.track_name, r\"feat. ([\\w\\s&]+)\", 1)\n",
    ").withColumn(\n",
    "    \"track_name\", regexp_replace(tiktokData1.track_name, r\" .feat. ([\\w\\s&]+).\", \"\")\n",
    ")\n",
    "\n",
    "tiktokData2.select(\"track_name\", \"artist_name\", \"feat\").where(\n",
    "    tiktokData2.feat != \"\"\n",
    ").show(6, False)"
   ]
  },
  {
   "cell_type": "markdown",
   "id": "f70cb42e",
   "metadata": {
    "id": "f70cb42e"
   },
   "source": [
    "№3: Разделите строки с соисполнителями по символу '&'. Для каждой песни соберите всех исполнителей в один массив. Отсортируйте песни по количеству исполнителей и названиям песен.\n",
    "\n",
    "| track_name                        | artist_names                              |\n",
    "| --------------------------------- | ----------------------------------------- |\n",
    "| 1, 2, 3                           | [Sofía Reyes, Jason Derulo, De La Ghetto] |\n",
    "| For The Night                     | [Pop Smoke, Lil Baby, DaBaby]             |\n",
    "| Friday - Dopamine Re-Edit         | [Riton, Mufasa, Hypeman]                  |\n",
    "| Peaches                           | [Justin Bieber, Daniel Caesar, Giveon]    |\n",
    "| Bam Bam                           | [Camila Cabello, Ed Sheeran]              |\n",
    "| Banana - DJ FLe - Minisiren Remix | [Conkarah, Shaggy]                        |\n",
    "\n",
    "<div style=\"text-align: center\"> only showing top 6 rows </div>\n"
   ]
  },
  {
   "cell_type": "code",
   "execution_count": 6,
   "id": "a48faba9",
   "metadata": {
    "colab": {
     "base_uri": "https://localhost:8080/"
    },
    "id": "a48faba9",
    "outputId": "ba4363b3-d322-4f62-89d6-d5bd391864aa"
   },
   "outputs": [
    {
     "name": "stdout",
     "output_type": "stream",
     "text": [
      "+-------------------------+-----------------------------------------+\n",
      "|track_name               |artist_names                             |\n",
      "+-------------------------+-----------------------------------------+\n",
      "|1, 2, 3                  |[Sofía Reyes, Jason Derulo, De La Ghetto]|\n",
      "|Don't Rush               |[Young T, Bugsey, Headie One]            |\n",
      "|For The Night            |[Pop Smoke, Lil Baby, DaBaby]            |\n",
      "|Friday - Dopamine Re-Edit|[Riton, Mufasa, Hypeman]                 |\n",
      "|Peaches                  |[Justin Bieber, Daniel Caesar, Giveon]   |\n",
      "|Bam Bam                  |[Camila Cabello, Ed Sheeran]             |\n",
      "+-------------------------+-----------------------------------------+\n",
      "only showing top 6 rows\n",
      "\n"
     ]
    }
   ],
   "source": [
    "from pyspark.sql.functions import split\n",
    "from pyspark.sql.functions import array_union\n",
    "from pyspark.sql.functions import array\n",
    "from pyspark.sql.functions import size\n",
    "from pyspark.sql.functions import when\n",
    "from pyspark.sql.functions import filter\n",
    "\n",
    "\n",
    "tiktokData3 = tiktokData2.withColumn(\n",
    "    \"artist_names\",\n",
    "    filter(\n",
    "        array_union(\n",
    "            split(tiktokData2.artist_name, \" & \"), split(tiktokData2.feat, \" & \")\n",
    "        ),\n",
    "        lambda e: e != \"\",\n",
    "    ),\n",
    ")\n",
    "\n",
    "tiktokData3.select(\"track_name\", \"artist_names\").orderBy(\n",
    "    desc(size(tiktokData3.artist_names)), tiktokData3.track_name\n",
    ").show(6, False)"
   ]
  },
  {
   "cell_type": "markdown",
   "id": "3a71a168",
   "metadata": {
    "id": "3a71a168"
   },
   "source": [
    "№4: Выведите список песен Doja Cat.\n",
    "\n",
    "| track_name   | album                | artist_names         |\n",
    "| ------------ | -------------------- | -------------------- |\n",
    "| Woman        | Planet Her           | [Doja Cat]           |\n",
    "| Kiss Me More | Kiss Me More (fea... | [Doja Cat, SZA]      |\n",
    "| Need to Know | Planet Her           | [Doja Cat]           |\n",
    "| Ain't Shit   | Planet Her           | [Doja Cat]           |\n",
    "| You Right    | Planet Her           | [Doja Cat]           |\n",
    "| Best Friend  | Best Friend (feat... | [Saweetie, Doja Cat] |\n",
    "| Freak        | Freak                | [Doja Cat]           |\n",
    "| Boss Bitch   | Boss Bitch           | [Doja Cat]           |\n",
    "| Say So       | Hot Pink             | [Doja Cat]           |\n"
   ]
  },
  {
   "cell_type": "code",
   "execution_count": 7,
   "id": "689cc597",
   "metadata": {
    "colab": {
     "base_uri": "https://localhost:8080/"
    },
    "id": "689cc597",
    "outputId": "88414e09-1379-4f89-9d04-0ac2e5ea2582"
   },
   "outputs": [
    {
     "name": "stdout",
     "output_type": "stream",
     "text": [
      "+------------+---------------------------------------+--------------------+\n",
      "|track_name  |album                                  |artist_names        |\n",
      "+------------+---------------------------------------+--------------------+\n",
      "|Woman       |Planet Her                             |[Doja Cat]          |\n",
      "|Kiss Me More|Kiss Me More (feat. SZA)               |[Doja Cat, SZA]     |\n",
      "|Need to Know|Planet Her                             |[Doja Cat]          |\n",
      "|Ain't Shit  |Planet Her                             |[Doja Cat]          |\n",
      "|You Right   |Planet Her                             |[Doja Cat]          |\n",
      "|Best Friend |Best Friend (feat. Doja Cat) [Remix EP]|[Saweetie, Doja Cat]|\n",
      "|Freak       |Freak                                  |[Doja Cat]          |\n",
      "|Boss Bitch  |Boss Bitch                             |[Doja Cat]          |\n",
      "|Say So      |Hot Pink                               |[Doja Cat]          |\n",
      "+------------+---------------------------------------+--------------------+\n",
      "\n"
     ]
    }
   ],
   "source": [
    "from pyspark.sql.functions import explode\n",
    "from pyspark.sql.functions import array_contains\n",
    "\n",
    "tiktokData3.select(\"track_name\", \"album\", \"artist_names\").where(\n",
    "    array_contains(tiktokData3.artist_names, \"Doja Cat\")\n",
    ").show(truncate=False)\n",
    "\n",
    "tiktokData4 = tiktokData3.select(\n",
    "    \"track_name\",\n",
    "    explode(tiktokData3.artist_names).alias(\"artist_name\"),\n",
    "    \"track_pop\",\n",
    "    \"artist_pop\",\n",
    ")"
   ]
  },
  {
   "cell_type": "markdown",
   "id": "ddf9daf5",
   "metadata": {
    "id": "ddf9daf5"
   },
   "source": [
    "№5: Выведите таблицу с исполнителями и количеством их треков в порядке уменьшения.\n",
    "\n",
    "| artist_name    | count |\n",
    "| -------------- | ----- |\n",
    "| Doja Cat       | 9     |\n",
    "| Coopex         | 6     |\n",
    "| Dame Dame      | 5     |\n",
    "| Alex Alexander | 4     |\n",
    "| YES YES        | 4     |\n",
    "| Lil Nas X      | 4     |\n",
    "\n",
    "<div style=\"text-align: center\"> only showing top 6 rows </div>\n"
   ]
  },
  {
   "cell_type": "code",
   "execution_count": 8,
   "id": "6221c4a3",
   "metadata": {
    "colab": {
     "base_uri": "https://localhost:8080/"
    },
    "id": "6221c4a3",
    "outputId": "dc32bef9-ed1f-424d-f463-c65650838c6f"
   },
   "outputs": [
    {
     "name": "stdout",
     "output_type": "stream",
     "text": [
      "+--------------+-----+\n",
      "|artist_name   |count|\n",
      "+--------------+-----+\n",
      "|Doja Cat      |9    |\n",
      "|Coopex        |6    |\n",
      "|Dame Dame     |5    |\n",
      "|Alex Alexander|4    |\n",
      "|DaBaby        |4    |\n",
      "|Drake         |4    |\n",
      "+--------------+-----+\n",
      "only showing top 6 rows\n",
      "\n"
     ]
    }
   ],
   "source": [
    "tiktokData4.groupBy(\"artist_name\").count().orderBy(desc(\"count\"), \"artist_name\").show(\n",
    "    6, False\n",
    ")"
   ]
  },
  {
   "cell_type": "markdown",
   "id": "4e11fa46",
   "metadata": {
    "id": "4e11fa46"
   },
   "source": [
    "№6: Замените имена всех исполнителей, популярность которых неизвестна или меньше 50, на \"Other\". Отсортируйте треки по количеству исполнителей и популярности.\n",
    "\n",
    "| track_name                | artist_names                    | track_pop |\n",
    "| ------------------------- | ------------------------------- | --------- |\n",
    "| Peaches                   | [Justin Bieber, Other, Other]   | 86        |\n",
    "| Friday - Dopamine Re-Edit | [Riton, Other, Other]           | 83        |\n",
    "| 1, 2, 3                   | [Sofía Reyes, Other, Other]     | 82        |\n",
    "| For The Night             | [Pop Smoke, Other, DaBaby]      | 80        |\n",
    "| Jimmy Cooks               | [Drake, Other]                  | 92        |\n",
    "| INDUSTRY BABY             | [Lil Nas X, Jack Harlow]        | 86        |\n",
    "| Levitating                | [Dua Lipa, DaBaby]              | 85        |\n",
    "| Bam Bam                   | [Camila Cabello, Ed Sheeran]    | 83        |\n",
    "| Beautiful Mistakes        | [Maroon 5, Megan Thee Stallion] | 82        |\n",
    "| Kiss Me More              | [Doja Cat, SZA]                 | 82        |\n",
    "\n",
    "<div style=\"text-align: center\"> only showing top 10 rows </div>\n"
   ]
  },
  {
   "cell_type": "code",
   "execution_count": 9,
   "id": "902b0f05",
   "metadata": {
    "colab": {
     "base_uri": "https://localhost:8080/"
    },
    "id": "902b0f05",
    "outputId": "3111a9ed-187c-4363-c028-31d7972bb79a"
   },
   "outputs": [
    {
     "name": "stdout",
     "output_type": "stream",
     "text": [
      "+-------------------------+-----------------------------------------+---------+\n",
      "|track_name               |artist_names                             |track_pop|\n",
      "+-------------------------+-----------------------------------------+---------+\n",
      "|Peaches                  |[Justin Bieber, Daniel Caesar, Giveon]   |86       |\n",
      "|Friday - Dopamine Re-Edit|[Riton, Mufasa, Hypeman]                 |83       |\n",
      "|1, 2, 3                  |[Sofía Reyes, Jason Derulo, De La Ghetto]|82       |\n",
      "|For The Night            |[Pop Smoke, Lil Baby, DaBaby]            |80       |\n",
      "|Don't Rush               |[Young T, Bugsey, Headie One]            |63       |\n",
      "|Jimmy Cooks              |[Drake, 21 Savage]                       |92       |\n",
      "|INDUSTRY BABY            |[Lil Nas X, Jack Harlow]                 |86       |\n",
      "|Levitating               |[Dua Lipa, DaBaby]                       |85       |\n",
      "|Bam Bam                  |[Camila Cabello, Ed Sheeran]             |83       |\n",
      "|Kiss Me More             |[Doja Cat, SZA]                          |82       |\n",
      "+-------------------------+-----------------------------------------+---------+\n",
      "only showing top 10 rows\n",
      "\n"
     ]
    }
   ],
   "source": [
    "from pyspark.sql.functions import collect_list\n",
    "\n",
    "tiktokData5 = tiktokData4.withColumn(\n",
    "    \"artist_name\",\n",
    "    when(\n",
    "        tiktokData4.artist_name.isin(\n",
    "            tiktokData0.select(\"artist_name\")\n",
    "            .where(\"artist_pop > 50\")\n",
    "            .rdd.map(lambda r: r.artist_name)\n",
    "            .collect()\n",
    "        ),\n",
    "        tiktokData4.artist_name,\n",
    "    ).otherwise(\"Other\"),\n",
    ")\n",
    "\n",
    "tiktokData5.groupBy(\"track_name\", \"track_pop\").agg(\n",
    "    collect_list(\"artist_name\").alias(\"artist_names\")\n",
    ").select(\"track_name\", \"artist_names\", \"track_pop\").orderBy(\n",
    "    desc(size(\"artist_names\")), desc(\"track_pop\")\n",
    ").show(\n",
    "    10, False\n",
    ")"
   ]
  }
 ],
 "metadata": {
  "colab": {
   "collapsed_sections": [],
   "provenance": []
  },
  "kernelspec": {
   "display_name": "Python 3.9.7 ('base')",
   "language": "python",
   "name": "python3"
  },
  "language_info": {
   "codemirror_mode": {
    "name": "ipython",
    "version": 3
   },
   "file_extension": ".py",
   "mimetype": "text/x-python",
   "name": "python",
   "nbconvert_exporter": "python",
   "pygments_lexer": "ipython3",
   "version": "3.9.7"
  },
  "vscode": {
   "interpreter": {
    "hash": "c6e4e9f98eb68ad3b7c296f83d20e6de614cb42e90992a65aa266555a3137d0d"
   }
  }
 },
 "nbformat": 4,
 "nbformat_minor": 5
}
