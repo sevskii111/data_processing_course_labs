{
 "cells": [
  {
   "cell_type": "markdown",
   "id": "667e9e7b",
   "metadata": {},
   "source": [
    "- Прочитайте главы 7-8 из книги \"Spark: The Definitive Guide\".\n",
    "- Загрузите датасеты по ссылкам:\n",
    "    - https://www.kaggle.com/datasets/sveta151/tiktok-popular-songs-2019\n",
    "    - https://www.kaggle.com/datasets/sveta151/tiktok-popular-songs-2020\n",
    "    - https://www.kaggle.com/datasets/sveta151/tiktok-popular-songs-2021\n",
    "    - https://www.kaggle.com/datasets/sveta151/tiktok-popular-songs-2022\n",
    "- Выполните задания."
   ]
  },
  {
   "cell_type": "code",
   "execution_count": null,
   "id": "90ae95f5",
   "metadata": {},
   "outputs": [],
   "source": [
    "from pyspark.sql import SparkSession\n",
    "spark = SparkSession.builder\\\n",
    "                    .master(\"local\")\\\n",
    "                    .appName('SparkLab3')\\\n",
    "                    .getOrCreate()\n",
    "\n",
    "# Загружаем наборы данных в один DataFrame.\n",
    "tiktokData0 = spark\\\n",
    "  .read\\\n",
    "  .option(\"inferSchema\", \"true\")\\\n",
    "  .option(\"header\", \"true\")\\\n",
    "  .csv(\"/path to directory/*.csv\")"
   ]
  },
  {
   "cell_type": "markdown",
   "id": "6e4041a5",
   "metadata": {},
   "source": [
    "№1: Добавьте столбец year целочисленного типа, который содержит год датасета для каждой строки данных. Выведите самые танцевальные песни из наборов данных вместе с полем year.\n",
    "\n",
    "|          track_name|artist_name|year|danceability|\n",
    "|--------------------|-----------|----|------------|\n",
    "|  Dancing in My Room|   347aidan|2020|        0.98|\n",
    "|                 Uno|    Ambjaay|2019|       0.978|\n",
    "|I'm Looking for M...|   Memetown|2020|       0.977|\n",
    "|           Hood Baby|       KBFR|2020|       0.974|\n",
    "|              MICKEY| Lil Yachty|2019|       0.971|\n",
    "|Muffins In The Fr...|      Tiagz|2020|       0.965|\n",
    "\n",
    "<div style=\"text-align: center\"> only showing top 6 rows </div>"
   ]
  },
  {
   "cell_type": "code",
   "execution_count": null,
   "id": "ff1e6c30",
   "metadata": {},
   "outputs": [],
   "source": [
    "from pyspark.sql.functions import input_file_name\n",
    "from pyspark.sql.functions import regexp_extract\n",
    "from pyspark.sql.functions import desc\n",
    "from pyspark.sql.types import IntegerType\n",
    "\n",
    "tiktokData1 = tiktokData0\\\n",
    "  ...\n",
    "\n",
    "tiktokData1.sort(desc(\"danceability\")).select(\"track_name\", \"artist_name\", \"year\", \"danceability\").show(6)"
   ]
  },
  {
   "cell_type": "markdown",
   "id": "c60255bd",
   "metadata": {},
   "source": [
    "№2: Найдите исполнителей, которым сопоставлено более одного значения популярности. Выведите эти значения в виде списков.\n",
    "\n",
    "|          artist|popularity|\n",
    "|----------------|----------|\n",
    "|            KYLE|  [65, 66]|\n",
    "|Kero Kero Bonito|  [57, 56]|\n",
    "|       Kesh Kesh|  [27, 26]|\n",
    "|    Mahogany Lox|  [38, 37]|\n",
    "|   Trevor Daniel|  [66, 65]|\n",
    "|       blackbear|  [79, 80]|"
   ]
  },
  {
   "cell_type": "code",
   "execution_count": null,
   "id": "31724a4e",
   "metadata": {},
   "outputs": [],
   "source": [
    "from pyspark.sql.functions import col\n",
    "from pyspark.sql.functions import collect_list\n",
    "\n",
    "tiktokData2 = tiktokData1\\\n",
    "    ...\n",
    "\n",
    "tiktokData2.show()"
   ]
  },
  {
   "cell_type": "markdown",
   "id": "37340d0e",
   "metadata": {},
   "source": [
    "№3: Исправьте различающиеся значения популярности исполнителей. Замените их на максимальные значения из полученных в предыдущем задании массивов.\n",
    "\n",
    "|          track_name|     artist_name|               album|artist_pop|\n",
    "|--------------------|----------------|--------------------|----------|\n",
    "|     hot girl bummer|       blackbear|     hot girl bummer|        80|\n",
    "|Hey Julie! (feat....|            KYLE|Light of Mine (De...|        66|\n",
    "|             Falling|   Trevor Daniel|             Falling|        66|\n",
    "|             Falling|   Trevor Daniel|            Nicotine|        66|\n",
    "|            Flamingo|Kero Kero Bonito|            Flamingo|        57|\n",
    "|       Take Your Man|    Mahogany Lox|       Take Your Man|        38|\n",
    "|              Vibin'|       Kesh Kesh|              Vibin'|        27|\n",
    "\n",
    "<div style=\"text-align: center\"> 968 </div>"
   ]
  },
  {
   "cell_type": "code",
   "execution_count": null,
   "id": "61d8e2bd",
   "metadata": {},
   "outputs": [],
   "source": [
    "from pyspark.sql.functions import array_max\n",
    "from pyspark.sql.functions import when\n",
    "\n",
    "tiktokData3 = tiktokData1\\\n",
    "    ...\n",
    "\n",
    "# Выводим различия между новым  и старым датафреймами\n",
    "substractDf = tiktokData3\\\n",
    "    .subtract(tiktokData1)\\\n",
    "    .select(\"track_name\", \"artist_name\", \"album\", \"artist_pop\")\\\n",
    "    .sort(desc(\"artist_pop\"))\n",
    "\n",
    "substractDf.show()\n",
    "tiktokData3.count()"
   ]
  },
  {
   "cell_type": "markdown",
   "id": "dacae573",
   "metadata": {},
   "source": [
    "№4: Сгруппируйте данные по названию трека, названию альбома, имени и популярности певца. Годы датасетов соберите в списки. Популярность треков возьмите из максимального значения. Для столбцов danceability, energy,   speechiness, acousticness, instrumentalness, liveness и valence возьмите среднее значение. Остальные столбцы отбросьте. Сколько получилось строк в сгруппированном DataFrame?\n",
    "\n",
    "Полученный датафрейм сохраните в новый parquet файл. Это можно сделать методом:\n",
    "\n",
    "```\n",
    "df.write.format(\"parquet\").mode(\"overwrite\").save(\"path to file\")\n",
    "```\n",
    "\n",
    "Результат при этом сохранится в новую директорию.\n",
    "Другой способ:\n",
    "\n",
    "```\n",
    "df.toPandas().to_parquet(\"path to file\")\n",
    "```\n",
    "\n",
    "Результат сохранится в один файл без создания директорий. Для этого способа понадобится библиотека pyarrow.\n",
    "Установите ее с помощью команд:\n",
    "\n",
    "```\n",
    "source ~/Work/bin/activate\n",
    "pip3 install pyarrow\n",
    "```"
   ]
  },
  {
   "cell_type": "code",
   "execution_count": null,
   "id": "ca52658d",
   "metadata": {},
   "outputs": [],
   "source": [
    "from pyspark.sql.functions import expr\n",
    "from pyspark.sql.functions import max\n",
    "from pyspark.sql.functions import avg\n",
    "from pyspark.sql.functions import size\n",
    "from pyspark.sql.functions import sort_array\n",
    "\n"
   ]
  },
  {
   "cell_type": "markdown",
   "id": "a4fa2dc8",
   "metadata": {},
   "source": [
    "№5: Отсортируйте песни по количеству вхождений в датасеты и популярности. Выведите их вместе со списками годов наборов данных.\n",
    "\n",
    "|          track_name|               album|     artist_name|track_pop|               years|\n",
    "|--------------------|--------------------|----------------|---------|--------------------|\n",
    "|              Say So|            Hot Pink|        Doja Cat|       80|[2019, 2020, 2021...|\n",
    "|      Wait a Minute!|        ARDIPITHECUS|          WILLOW|       86|  [2019, 2020, 2022]|\n",
    "|       Electric Love|            Dopamine|           BØRNS|       82|  [2020, 2021, 2022]|\n",
    "|           Play Date|Cry Baby (Deluxe ...|Melanie Martinez|       78|  [2020, 2021, 2022]|\n",
    "|             ROXANNE|             ROXANNE|  Arizona Zervas|       78|  [2019, 2020, 2022]|\n",
    "|Savage Love (Laxe...|Savage Love (Laxe...|       Jawsh 685|       77|  [2020, 2021, 2022]|\n",
    "\n",
    "<div style=\"text-align: center\"> only showing top 6 rows </div>"
   ]
  },
  {
   "cell_type": "code",
   "execution_count": null,
   "id": "db4e6270",
   "metadata": {},
   "outputs": [],
   "source": []
  },
  {
   "cell_type": "markdown",
   "id": "f8bb1709",
   "metadata": {},
   "source": [
    "№6: Найдите все треки с повторяющимися именами. Выполните их сортировку по названию. Выведите названия песен, названия альбомов, имена исполнителей и годы датасетов. Сколько строк в полученной таблице?\n",
    "\n",
    "|          track_name|               album|   artist_name| years|\n",
    "|--------------------|--------------------|--------------|------|\n",
    "|\"More Than A Woma...|How Can You Mend ...|      Bee Gees|[2022]|\n",
    "|\"More Than A Woma...|            Greatest|      Bee Gees|[2020]|\n",
    "|223's (feat. 9lok...|    Melly vs. Melvin|     YNW Melly|[2019]|\n",
    "|223's (feat. 9lok...|223's (feat. 9lok...|     YNW Melly|[2020]|\n",
    "|           As It Was|           As It Was|Michael Shynes|[2022]|\n",
    "|           As It Was|           As It Was|  Harry Styles|[2022]|\n",
    "\n",
    "<div style=\"text-align: center\"> only showing top 6 rows </div>"
   ]
  },
  {
   "cell_type": "code",
   "execution_count": null,
   "id": "e866659a",
   "metadata": {},
   "outputs": [],
   "source": []
  }
 ],
 "metadata": {
  "kernelspec": {
   "display_name": "Python 3 (ipykernel)",
   "language": "python",
   "name": "python3"
  },
  "language_info": {
   "codemirror_mode": {
    "name": "ipython",
    "version": 3
   },
   "file_extension": ".py",
   "mimetype": "text/x-python",
   "name": "python",
   "nbconvert_exporter": "python",
   "pygments_lexer": "ipython3",
   "version": "3.10.4"
  }
 },
 "nbformat": 4,
 "nbformat_minor": 5
}
