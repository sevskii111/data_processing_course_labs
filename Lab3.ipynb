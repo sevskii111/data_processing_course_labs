{
  "cells": [
    {
      "attachments": {},
      "cell_type": "markdown",
      "id": "667e9e7b",
      "metadata": {
        "id": "667e9e7b"
      },
      "source": [
        "- Прочитайте главы 7-8 из книги \"Spark: The Definitive Guide\".\n",
        "- Загрузите датасеты по ссылкам:\n",
        "  - https://www.kaggle.com/datasets/sveta151/tiktok-popular-songs-2019\n",
        "  - https://www.kaggle.com/datasets/sveta151/tiktok-popular-songs-2020\n",
        "  - https://www.kaggle.com/datasets/sveta151/tiktok-popular-songs-2021\n",
        "  - https://www.kaggle.com/datasets/sveta151/tiktok-popular-songs-2022\n",
        "- Выполните задания.\n"
      ]
    },
    {
      "cell_type": "code",
      "execution_count": 51,
      "id": "90ae95f5",
      "metadata": {
        "id": "90ae95f5"
      },
      "outputs": [],
      "source": [
        "from pyspark.sql import SparkSession\n",
        "\n",
        "spark = SparkSession.builder.master(\"local\").appName(\"SparkLab3\").getOrCreate()\n",
        "\n",
        "# Загружаем наборы данных в один DataFrame.\n",
        "tiktokData0 = (\n",
        "    spark.read.option(\"inferSchema\", \"true\")\n",
        "    .option(\"header\", \"true\")\n",
        "    .csv(\"/content/drive/MyDrive/VladLabs\")\n",
        ")\n"
      ]
    },
    {
      "attachments": {},
      "cell_type": "markdown",
      "id": "6e4041a5",
      "metadata": {
        "id": "6e4041a5"
      },
      "source": [
        "№1: Добавьте столбец year целочисленного типа, который содержит год датасета для каждой строки данных. Выведите самые танцевальные песни из наборов данных вместе с полем year.\n",
        "\n",
        "| track_name           | artist_name | year | danceability |\n",
        "| -------------------- | ----------- | ---- | ------------ |\n",
        "| Dancing in My Room   | 347aidan    | 2020 | 0.98         |\n",
        "| Uno                  | Ambjaay     | 2019 | 0.978        |\n",
        "| I'm Looking for M... | Memetown    | 2020 | 0.977        |\n",
        "| Hood Baby            | KBFR        | 2020 | 0.974        |\n",
        "| MICKEY               | Lil Yachty  | 2019 | 0.971        |\n",
        "| Muffins In The Fr... | Tiagz       | 2020 | 0.965        |\n",
        "\n",
        "<div style=\"text-align: center\"> only showing top 6 rows </div>\n"
      ]
    },
    {
      "cell_type": "code",
      "execution_count": 52,
      "id": "ff1e6c30",
      "metadata": {
        "colab": {
          "base_uri": "https://localhost:8080/"
        },
        "id": "ff1e6c30",
        "outputId": "aec4c217-a7e0-4f39-c669-1c87a9cd03cf"
      },
      "outputs": [
        {
          "name": "stdout",
          "output_type": "stream",
          "text": [
            "+--------------------+-----------+----+------------+\n",
            "|          track_name|artist_name|year|danceability|\n",
            "+--------------------+-----------+----+------------+\n",
            "|  Dancing in My Room|   347aidan|2020|        0.98|\n",
            "|                 Uno|    Ambjaay|2019|       0.978|\n",
            "|I'm Looking for M...|   Memetown|2020|       0.977|\n",
            "|           Hood Baby|       KBFR|2020|       0.974|\n",
            "|              MICKEY| Lil Yachty|2019|       0.971|\n",
            "|Muffins In The Fr...|      Tiagz|2020|       0.965|\n",
            "+--------------------+-----------+----+------------+\n",
            "only showing top 6 rows\n",
            "\n"
          ]
        }
      ],
      "source": [
        "from pyspark.sql.functions import input_file_name\n",
        "from pyspark.sql.functions import regexp_extract\n",
        "from pyspark.sql.functions import desc\n",
        "from pyspark.sql.types import IntegerType\n",
        "\n",
        "tiktokData1 = tiktokData0.withColumn(\n",
        "    \"year\", regexp_extract(input_file_name(), r\".+_(\\d+)\\.csv\", 1).cast(\"int\")\n",
        ")\n",
        "\n",
        "tiktokData1.sort(desc(\"danceability\")).select(\n",
        "    \"track_name\", \"artist_name\", \"year\", \"danceability\"\n",
        ").show(6)\n"
      ]
    },
    {
      "attachments": {},
      "cell_type": "markdown",
      "id": "c60255bd",
      "metadata": {
        "id": "c60255bd"
      },
      "source": [
        "№2: Найдите исполнителей, которым сопоставлено более одного значения популярности. Выведите эти значения в виде списков.\n",
        "\n",
        "| artist           | popularity |\n",
        "| ---------------- | ---------- |\n",
        "| KYLE             | [65, 66]   |\n",
        "| Kero Kero Bonito | [57, 56]   |\n",
        "| Kesh Kesh        | [27, 26]   |\n",
        "| Mahogany Lox     | [38, 37]   |\n",
        "| Trevor Daniel    | [66, 65]   |\n",
        "| blackbear        | [79, 80]   |\n"
      ]
    },
    {
      "cell_type": "code",
      "execution_count": 78,
      "id": "31724a4e",
      "metadata": {
        "colab": {
          "base_uri": "https://localhost:8080/"
        },
        "id": "31724a4e",
        "outputId": "ae5e3b38-34e5-48a9-8f91-6530581c1e5c"
      },
      "outputs": [
        {
          "name": "stdout",
          "output_type": "stream",
          "text": [
            "+----------------+----------+\n",
            "|     artist_name|popularity|\n",
            "+----------------+----------+\n",
            "|       Kesh Kesh|  [27, 26]|\n",
            "|Kero Kero Bonito|  [56, 57]|\n",
            "|            KYLE|  [66, 65]|\n",
            "|   Trevor Daniel|  [66, 65]|\n",
            "|       blackbear|  [79, 80]|\n",
            "|    Mahogany Lox|  [37, 38]|\n",
            "+----------------+----------+\n",
            "\n"
          ]
        }
      ],
      "source": [
        "from pyspark.sql.functions import col\n",
        "from pyspark.sql.functions import collect_set\n",
        "from pyspark.sql.functions import size\n",
        "\n",
        "tiktokData2 = tiktokData1.join(\n",
        "    tiktokData1.groupby(\"artist_name\").agg(\n",
        "        collect_set(\"artist_pop\").alias(\"popularity\")\n",
        "    ),\n",
        "    \"artist_name\",\n",
        ")\n",
        "\n",
        "tiktokData2.select(\"artist_name\", \"popularity\").where(\n",
        "    size(col(\"popularity\")) > 1\n",
        ").distinct().show()\n"
      ]
    },
    {
      "attachments": {},
      "cell_type": "markdown",
      "id": "37340d0e",
      "metadata": {
        "id": "37340d0e"
      },
      "source": [
        "№3: Исправьте различающиеся значения популярности исполнителей. Замените их на максимальные значения из полученных в предыдущем задании массивов.\n",
        "\n",
        "| track_name           | artist_name      | album                | artist_pop |\n",
        "| -------------------- | ---------------- | -------------------- | ---------- |\n",
        "| hot girl bummer      | blackbear        | hot girl bummer      | 80         |\n",
        "| Hey Julie! (feat.... | KYLE             | Light of Mine (De... | 66         |\n",
        "| Falling              | Trevor Daniel    | Falling              | 66         |\n",
        "| Falling              | Trevor Daniel    | Nicotine             | 66         |\n",
        "| Flamingo             | Kero Kero Bonito | Flamingo             | 57         |\n",
        "| Take Your Man        | Mahogany Lox     | Take Your Man        | 38         |\n",
        "| Vibin'               | Kesh Kesh        | Vibin'               | 27         |\n",
        "\n",
        "<div style=\"text-align: center\"> 968 </div>\n"
      ]
    },
    {
      "cell_type": "code",
      "execution_count": 121,
      "id": "61d8e2bd",
      "metadata": {
        "colab": {
          "base_uri": "https://localhost:8080/"
        },
        "id": "61d8e2bd",
        "outputId": "a8d628eb-e91f-4229-d05d-d78301b5d184"
      },
      "outputs": [
        {
          "name": "stdout",
          "output_type": "stream",
          "text": [
            "+--------------------+----------------+--------------------+----------+\n",
            "|          track_name|     artist_name|               album|artist_pop|\n",
            "+--------------------+----------------+--------------------+----------+\n",
            "|     hot girl bummer|       blackbear|     hot girl bummer|        80|\n",
            "|             Falling|   Trevor Daniel|             Falling|        66|\n",
            "|             Falling|   Trevor Daniel|            Nicotine|        66|\n",
            "|Hey Julie! (feat....|            KYLE|Light of Mine (De...|        66|\n",
            "|            Flamingo|Kero Kero Bonito|            Flamingo|        57|\n",
            "|       Take Your Man|    Mahogany Lox|       Take Your Man|        38|\n",
            "|              Vibin'|       Kesh Kesh|              Vibin'|        27|\n",
            "+--------------------+----------------+--------------------+----------+\n",
            "\n"
          ]
        },
        {
          "data": {
            "text/plain": [
              "968"
            ]
          },
          "execution_count": 121,
          "metadata": {},
          "output_type": "execute_result"
        }
      ],
      "source": [
        "from pyspark.sql.functions import array_max\n",
        "from pyspark.sql.functions import when\n",
        "\n",
        "tiktokData3 = (\n",
        "    tiktokData1.drop(\"artist_pop\")\n",
        "    .join(\n",
        "        tiktokData2.select(\n",
        "            \"artist_name\", array_max(col(\"popularity\")).alias(\"artist_pop\")\n",
        "        ).distinct(),\n",
        "        \"artist_name\",\n",
        "        \"left\",\n",
        "    )\n",
        "    .select(tiktokData1.columns)\n",
        ")\n",
        "\n",
        "# Выводим различия между новым  и старым датафреймами\n",
        "substractDf = (\n",
        "    tiktokData3.subtract(tiktokData1)\n",
        "    .select(\"track_name\", \"artist_name\", \"album\", \"artist_pop\")\n",
        "    .sort(desc(\"artist_pop\"))\n",
        ")\n",
        "\n",
        "substractDf.show()\n",
        "tiktokData3.count()\n"
      ]
    },
    {
      "attachments": {},
      "cell_type": "markdown",
      "id": "dacae573",
      "metadata": {
        "id": "dacae573"
      },
      "source": [
        "№4: Сгруппируйте данные по названию трека, названию альбома, имени и популярности певца. Годы датасетов соберите в списки. Популярность треков возьмите из максимального значения. Для столбцов danceability, energy, speechiness, acousticness, instrumentalness, liveness и valence возьмите среднее значение. Остальные столбцы отбросьте. Сколько получилось строк в сгруппированном DataFrame?\n",
        "\n",
        "Полученный датафрейм сохраните в новый parquet файл. Это можно сделать методом:\n",
        "\n",
        "```\n",
        "df.write.format(\"parquet\").mode(\"overwrite\").save(\"path to file\")\n",
        "```\n",
        "\n",
        "Результат при этом сохранится в новую директорию.\n",
        "Другой способ:\n",
        "\n",
        "```\n",
        "df.toPandas().to_parquet(\"path to file\")\n",
        "```\n",
        "\n",
        "Результат сохранится в один файл без создания директорий. Для этого способа понадобится библиотека pyarrow.\n",
        "Установите ее с помощью команд:\n",
        "\n",
        "```\n",
        "source ~/Work/bin/activate\n",
        "pip3 install pyarrow\n",
        "```\n"
      ]
    },
    {
      "cell_type": "code",
      "execution_count": 150,
      "id": "ca52658d",
      "metadata": {
        "colab": {
          "base_uri": "https://localhost:8080/"
        },
        "id": "ca52658d",
        "outputId": "cc200ab2-1693-4986-8e08-ab7f73e12ffa"
      },
      "outputs": [
        {
          "name": "stdout",
          "output_type": "stream",
          "text": [
            "+--------------------+--------------------+--------------------+----------+------------+---------+------------+------+-----------+------------+----------------+--------+-------+\n",
            "|          track_name|               album|         artist_name|artist_pop|       years|track_pop|danceability|energy|speechiness|acousticness|instrumentalness|liveness|valence|\n",
            "+--------------------+--------------------+--------------------+----------+------------+---------+------------+------+-----------+------------+----------------+--------+-------+\n",
            "|               Rodeo|                7 EP|           Lil Nas X|        81|      [2020]|       68|       0.706| 0.679|     0.0324|       0.139|         6.98E-5|   0.465|  0.657|\n",
            "|INDUSTRY BABY (fe...|INDUSTRY BABY (fe...|           Lil Nas X|        81|[2022, 2021]|       86|       0.736| 0.704|     0.0615|      0.0203|             0.0|  0.0501|  0.894|\n",
            "|MONTERO (Call Me ...|MONTERO (Call Me ...|           Lil Nas X|        81|[2022, 2021]|        4|        0.61| 0.508|      0.152|       0.297|             0.0|   0.384|  0.758|\n",
            "|   THATS WHAT I WANT|             MONTERO|           Lil Nas X|        81|[2022, 2021]|       88|       0.737| 0.846|       0.22|     0.00614|             0.0|  0.0486|  0.546|\n",
            "|             HOLIDAY|             HOLIDAY|           Lil Nas X|        81|      [2022]|       73|        0.81| 0.511|      0.164|        0.12|             0.0|  0.0832|  0.837|\n",
            "|       Old Town Road|                7 EP|           Lil Nas X|        81|      [2019]|       76|       0.907|  0.53|      0.127|      0.0578|         2.23E-6|   0.101|  0.507|\n",
            "|              Panini|              Panini|           Lil Nas X|        81|      [2019]|       70|       0.703| 0.594|     0.0752|       0.342|             0.0|   0.123|  0.475|\n",
            "|Something For You...|       Superorganism|       Superorganism|        52|      [2020]|       58|       0.698| 0.542|      0.131|       0.132|         0.00117|   0.199|  0.664|\n",
            "|          THE SCOTTS|          THE SCOTTS|          THE SCOTTS|        58|      [2022]|       76|       0.716| 0.537|     0.0514|       0.233|             0.0|   0.157|   0.28|\n",
            "|You Make My Dream...|              Voices|Daryl Hall & John...|        70|      [2019]|       77|       0.751| 0.501|     0.0551|       0.234|           0.112|  0.0467|  0.902|\n",
            "|  Another Day Of Sun|La La Land (Origi...|     La La Land Cast|        46|[2020, 2019]|       64|       0.588| 0.742|     0.0528|      0.0162|         3.98E-6|   0.653|  0.824|\n",
            "|Not What I Meant ...|               Human|               dodie|        61|      [2019]|       45|       0.482| 0.273|      0.043|       0.792|         0.00223|   0.109|  0.142|\n",
            "|              Indigo|              Indigo|            88rising|        68|      [2019]|       52|       0.819| 0.664|     0.0828|      0.0958|         1.75E-6|   0.263|   0.71|\n",
            "|         Without You|         Without You|        John De Sohn|        61|      [2022]|        0|       0.643| 0.745|     0.0619|      0.0449|             0.0|  0.0916|  0.461|\n",
            "|Bundles (feat. Ta...|Bundles (feat. Ta...|        Kayla Nicole|        54|[2022, 2021]|       67|       0.939| 0.682|      0.306|     0.00152|             0.0|  0.0552|  0.584|\n",
            "|               Smile|Alright, Still (D...|          Lily Allen|        67|      [2020]|       71|       0.632| 0.639|     0.0259|     0.00143|             0.0|   0.221|  0.733|\n",
            "|            Fuck You|It's Not Me, It's...|          Lily Allen|        67|      [2019]|       62|       0.775| 0.904|     0.0437|      0.0271|         3.03E-4|    0.06|   0.84|\n",
            "|Crank That (Soulj...| souljaboytellem.com|          Soulja Boy|        69|      [2019]|       74|       0.736|  0.74|     0.0786|       0.515|             0.0|  0.0468|  0.803|\n",
            "|              Freaks|              Freaks|          Surf Curse|        69|      [2022]|       85|       0.345| 0.941|     0.0466|     3.84E-5|           0.633|  0.0511|  0.407|\n",
            "|         Stereo Love|The Stereo Love Show|         Edward Maya|        64|      [2019]|       18|       0.771| 0.728|     0.0359|      0.0174|          0.0299|  0.0779|  0.297|\n",
            "+--------------------+--------------------+--------------------+----------+------------+---------+------------+------+-----------+------------+----------------+--------+-------+\n",
            "only showing top 20 rows\n",
            "\n"
          ]
        }
      ],
      "source": [
        "from pyspark.sql.functions import expr\n",
        "from pyspark.sql.functions import max\n",
        "from pyspark.sql.functions import avg\n",
        "from pyspark.sql.functions import size\n",
        "from pyspark.sql.functions import sort_array\n",
        "\n",
        "tiktokData4 = tiktokData3.groupBy(\n",
        "    \"track_name\", \"album\", \"artist_name\", \"artist_pop\"\n",
        ").agg(\n",
        "    collect_list(col(\"year\")).alias(\"years\"),\n",
        "    max(col(\"track_pop\")).alias(\"track_pop\"),\n",
        "    avg(col(\"danceability\")).alias(\"danceability\"),\n",
        "    avg(col(\"energy\")).alias(\"energy\"),\n",
        "    avg(col(\"speechiness\")).alias(\"speechiness\"),\n",
        "    avg(col(\"acousticness\")).alias(\"acousticness\"),\n",
        "    avg(col(\"instrumentalness\")).alias(\"instrumentalness\"),\n",
        "    avg(col(\"liveness\")).alias(\"liveness\"),\n",
        "    avg(col(\"valence\")).alias(\"valence\"),\n",
        ")\n",
        "\n",
        "\n",
        "tiktokData4.show()\n",
        "tiktokData4.count()\n",
        "tiktokData4.write.format(\"parquet\").mode(\"overwrite\").save(\"task_4\")\n"
      ]
    },
    {
      "attachments": {},
      "cell_type": "markdown",
      "id": "a4fa2dc8",
      "metadata": {
        "id": "a4fa2dc8"
      },
      "source": [
        "№5: Отсортируйте песни по количеству вхождений в датасеты и популярности. Выведите их вместе со списками годов наборов данных.\n",
        "\n",
        "| track_name           | album                | artist_name      | track_pop | years                |\n",
        "| -------------------- | -------------------- | ---------------- | --------- | -------------------- |\n",
        "| Say So               | Hot Pink             | Doja Cat         | 80        | [2019, 2020, 2021... |\n",
        "| Wait a Minute!       | ARDIPITHECUS         | WILLOW           | 86        | [2019, 2020, 2022]   |\n",
        "| Electric Love        | Dopamine             | BØRNS            | 82        | [2020, 2021, 2022]   |\n",
        "| Play Date            | Cry Baby (Deluxe ... | Melanie Martinez | 78        | [2020, 2021, 2022]   |\n",
        "| ROXANNE              | ROXANNE              | Arizona Zervas   | 78        | [2019, 2020, 2022]   |\n",
        "| Savage Love (Laxe... | Savage Love (Laxe... | Jawsh 685        | 77        | [2020, 2021, 2022]   |\n",
        "\n",
        "<div style=\"text-align: center\"> only showing top 6 rows </div>\n"
      ]
    },
    {
      "cell_type": "code",
      "execution_count": 154,
      "id": "db4e6270",
      "metadata": {
        "colab": {
          "base_uri": "https://localhost:8080/"
        },
        "id": "db4e6270",
        "outputId": "5b676301-ac20-4d08-916b-ff41921b0278"
      },
      "outputs": [
        {
          "name": "stdout",
          "output_type": "stream",
          "text": [
            "+--------------------+--------------------+----------------+---------+--------------------+\n",
            "|          track_name|               album|     artist_name|track_pop|               years|\n",
            "+--------------------+--------------------+----------------+---------+--------------------+\n",
            "|              Say So|            Hot Pink|        Doja Cat|       80|[2020, 2022, 2019...|\n",
            "|      Wait a Minute!|        ARDIPITHECUS|          WILLOW|       86|  [2020, 2022, 2019]|\n",
            "|       Electric Love|            Dopamine|           BØRNS|       82|  [2020, 2022, 2021]|\n",
            "|             ROXANNE|             ROXANNE|  Arizona Zervas|       78|  [2020, 2022, 2019]|\n",
            "|           Play Date|Cry Baby (Deluxe ...|Melanie Martinez|       78|  [2020, 2022, 2021]|\n",
            "|Savage Love (Laxe...|Savage Love (Laxe...|       Jawsh 685|       77|  [2020, 2022, 2021]|\n",
            "+--------------------+--------------------+----------------+---------+--------------------+\n",
            "only showing top 6 rows\n",
            "\n"
          ]
        }
      ],
      "source": [
        "tiktokData5 = tiktokData4.orderBy(desc(size(col(\"years\"))), desc(\"track_pop\")).select(\n",
        "    \"track_name\", \"album\", \"artist_name\", \"track_pop\", \"years\"\n",
        ")\n",
        "\n",
        "tiktokData5.show(6)\n"
      ]
    },
    {
      "attachments": {},
      "cell_type": "markdown",
      "id": "f8bb1709",
      "metadata": {
        "id": "f8bb1709"
      },
      "source": [
        "№6: Найдите все треки с повторяющимися именами. Выполните их сортировку по названию. Выведите названия песен, названия альбомов, имена исполнителей и годы датасетов. Сколько строк в полученной таблице?\n",
        "\n",
        "| track_name           | album                | artist_name    | years  |\n",
        "| -------------------- | -------------------- | -------------- | ------ |\n",
        "| \"More Than A Woma... | How Can You Mend ... | Bee Gees       | [2022] |\n",
        "| \"More Than A Woma... | Greatest             | Bee Gees       | [2020] |\n",
        "| 223's (feat. 9lok... | Melly vs. Melvin     | YNW Melly      | [2019] |\n",
        "| 223's (feat. 9lok... | 223's (feat. 9lok... | YNW Melly      | [2020] |\n",
        "| As It Was            | As It Was            | Michael Shynes | [2022] |\n",
        "| As It Was            | As It Was            | Harry Styles   | [2022] |\n",
        "\n",
        "<div style=\"text-align: center\"> only showing top 6 rows </div>\n"
      ]
    },
    {
      "cell_type": "code",
      "execution_count": 170,
      "id": "e866659a",
      "metadata": {
        "colab": {
          "base_uri": "https://localhost:8080/"
        },
        "id": "e866659a",
        "outputId": "ad97ed87-b543-487b-88df-5deebc1cb029"
      },
      "outputs": [
        {
          "name": "stdout",
          "output_type": "stream",
          "text": [
            "+--------------------+--------------------+--------------+------+\n",
            "|          track_name|               album|   artist_name| years|\n",
            "+--------------------+--------------------+--------------+------+\n",
            "|\"More Than A Woma...|How Can You Mend ...|      Bee Gees|[2022]|\n",
            "|\"More Than A Woma...|            Greatest|      Bee Gees|[2020]|\n",
            "|223's (feat. 9lok...|223's (feat. 9lok...|     YNW Melly|[2020]|\n",
            "|223's (feat. 9lok...|    Melly vs. Melvin|     YNW Melly|[2019]|\n",
            "|           As It Was|           As It Was|Michael Shynes|[2022]|\n",
            "|           As It Was|           As It Was|  Harry Styles|[2022]|\n",
            "+--------------------+--------------------+--------------+------+\n",
            "only showing top 6 rows\n",
            "\n"
          ]
        },
        {
          "data": {
            "text/plain": [
              "85"
            ]
          },
          "execution_count": 170,
          "metadata": {},
          "output_type": "execute_result"
        }
      ],
      "source": [
        "from pyspark.sql.functions import count\n",
        "\n",
        "repeating_track_names = (\n",
        "    tiktokData4.groupBy(\"track_name\")\n",
        "    .agg(count(\"*\").alias(\"count\"))\n",
        "    .where(col(\"count\") > 1)\n",
        "    .rdd.map(lambda x: x.track_name)\n",
        "    .collect()\n",
        ")\n",
        "tiktokData6 = tiktokData4.where(col(\"track_name\").isin(repeating_track_names))\n",
        "\n",
        "tiktokData6.orderBy(\"track_name\").select(\n",
        "    \"track_name\", \"album\", \"artist_name\", \"years\"\n",
        ").show(6)\n",
        "tiktokData6.count()\n"
      ]
    }
  ],
  "metadata": {
    "colab": {
      "provenance": []
    },
    "kernelspec": {
      "display_name": "base",
      "language": "python",
      "name": "python3"
    },
    "language_info": {
      "codemirror_mode": {
        "name": "ipython",
        "version": 3
      },
      "file_extension": ".py",
      "mimetype": "text/x-python",
      "name": "python",
      "nbconvert_exporter": "python",
      "pygments_lexer": "ipython3",
      "version": "3.9.7 | packaged by conda-forge | (default, Sep 29 2021, 19:24:02) \n[Clang 11.1.0 ]"
    },
    "vscode": {
      "interpreter": {
        "hash": "c6e4e9f98eb68ad3b7c296f83d20e6de614cb42e90992a65aa266555a3137d0d"
      }
    }
  },
  "nbformat": 4,
  "nbformat_minor": 5
}
